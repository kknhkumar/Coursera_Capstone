{
 "cells": [
  {
   "cell_type": "markdown",
   "metadata": {
    "collapsed": true
   },
   "source": [
    "<H1>INTRODUCTION</H1>"
   ]
  },
  {
   "cell_type": "markdown",
   "metadata": {},
   "source": [
    "We all know that New York city is the largest city in United States and having hude international immigration over the past decade.\n",
    "New York city was home to nearly 8.5 million people in 2018, accounting for over 40% of the population of New York state and slightly\n",
    "and slightly lower percentage of the New York metropolitan area.\n",
    "\n",
    "As there are many immigrations in this area it is required to fing the best location for opening Japanese restaurent in New York.\n",
    "However potentially the Jpanese restaurent owner can have great success but it is also consider about profit as there will be huge amount \n",
    "invested into it.\n",
    "So, our project will be done to answer questions:\n",
    "1.Where should the investor open the Japanese Restaurent?\n",
    "2.Where should i go if i want great Japanese food?"
   ]
  },
  {
   "cell_type": "markdown",
   "metadata": {},
   "source": [
    "<H1>BUSINESS PROBLEM<H1/>"
   ]
  },
  {
   "cell_type": "markdown",
   "metadata": {},
   "source": [
    "The main content of this project is to find where to open Japanese reataurent. Using data science methadology and tools like Data Analysis and Visualization we can complete the project with the answers for the questions.\n",
    "At what the location should the Japanese restaurent can open?"
   ]
  },
  {
   "cell_type": "markdown",
   "metadata": {},
   "source": [
    "<H1>TARGET AUDIENCE</H1>"
   ]
  },
  {
   "cell_type": "markdown",
   "metadata": {},
   "source": [
    "The target audience of this project are the people who are trying to open the Jpanese reataurent in New York. As the New York is having the people of different languages this project helps in finding the best location that the hotel can succeed if it is located at that point."
   ]
  },
  {
   "cell_type": "markdown",
   "metadata": {},
   "source": [
    "<H1>DATA REQUIREMENT</H1>\n"
   ]
  },
  {
   "cell_type": "markdown",
   "metadata": {},
   "source": [
    "To complete the project we require the following data:\n",
    "1. New York city data containing neighbourhoods and boroughts\n",
    "2.Lattitudes and Longitudinal coordinated of these neighbourhoods.\n",
    "3.Venue data related to restaurents to perform analysis."
   ]
  },
  {
   "cell_type": "markdown",
   "metadata": {},
   "source": [
    "<H1>DATA SOURCE AND METHOD OF EXTRACTION</H1>"
   ]
  },
  {
   "cell_type": "markdown",
   "metadata": {},
   "source": [
    "The required data can be obtained by the open source https://cocl.us/new_york_dataset. After this we will obtaion geographical locations that is lattitudes and longitudes of neighbourhoods. Later we will use Foursquare to obtain the venue details.\n",
    "The project will be done by using web scrapping working with API, data wrangling, visualization."
   ]
  },
  {
   "cell_type": "code",
   "execution_count": null,
   "metadata": {},
   "outputs": [],
   "source": []
  }
 ],
 "metadata": {
  "kernelspec": {
   "display_name": "Python 3.7",
   "language": "python",
   "name": "python3"
  },
  "language_info": {
   "codemirror_mode": {
    "name": "ipython",
    "version": 3
   },
   "file_extension": ".py",
   "mimetype": "text/x-python",
   "name": "python",
   "nbconvert_exporter": "python",
   "pygments_lexer": "ipython3",
   "version": "3.7.9"
  }
 },
 "nbformat": 4,
 "nbformat_minor": 1
}
